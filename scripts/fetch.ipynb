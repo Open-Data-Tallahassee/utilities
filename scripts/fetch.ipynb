{
 "cells": [
  {
   "cell_type": "markdown",
   "id": "5a5a7087",
   "metadata": {},
   "source": [
    "## Script to fetch disconnected accounts data and append to file"
   ]
  },
  {
   "cell_type": "code",
   "execution_count": 1,
   "id": "e4bff697",
   "metadata": {},
   "outputs": [],
   "source": [
    "# import libraries\n",
    "import pandas as pd\n",
    "import os"
   ]
  },
  {
   "cell_type": "markdown",
   "id": "9bb844be",
   "metadata": {},
   "source": [
    "### Fetch and clean data from file"
   ]
  },
  {
   "cell_type": "code",
   "execution_count": 2,
   "id": "badf1352",
   "metadata": {},
   "outputs": [],
   "source": [
    "# create empty dataframe\n",
    "disconnections_df = pd.DataFrame(columns = ['disconnectionDate', 'count'])\n",
    "\n",
    "# read in all files in the disconnected folder\n",
    "directory = r'../data/raw/disconnected'\n",
    "for file in os.listdir(directory):\n",
    "    if file.endswith('.csv'):\n",
    "        # read in file\n",
    "        df = pd.read_csv('{directory}/{file}'.format(directory=directory, file=file))\n",
    "        \n",
    "        # create column for disconnection date\n",
    "        df['disconnectionDate'] = df['Date'].str.split(' ').str[0]\n",
    "        \n",
    "        # convert the 'Date' column to datetime format\n",
    "        df['disconnectionDate'] = pd.to_datetime(df['disconnectionDate'])\n",
    "        \n",
    "        # change 'Date' column type to string\n",
    "        df['disconnectionDate'] = df['disconnectionDate'].astype(str)\n",
    "\n",
    "        # create column for disconnection time\n",
    "        df['disconnectionTime'] = df['Date'].str.split(' ').str[0]\n",
    "\n",
    "        # drop 'Date' column\n",
    "        df = df.drop(columns=['Date'])\n",
    "        \n",
    "        # aggregate data by disconnection date\n",
    "        df = df[['disconnectionDate', 'Address']].groupby('disconnectionDate').count().sort_values(by='disconnectionDate', ascending=True).reset_index()\n",
    "        \n",
    "        # rename address column\n",
    "        df = df.rename(columns={\"Address\": \"count\"})\n",
    "        \n",
    "        # append data\n",
    "        disconnections_df = disconnections_df.append(df)\n",
    "    else:\n",
    "        pass\n"
   ]
  },
  {
   "cell_type": "markdown",
   "id": "5c15df17",
   "metadata": {},
   "source": [
    "## Clean data"
   ]
  },
  {
   "cell_type": "code",
   "execution_count": 3,
   "id": "72160562",
   "metadata": {},
   "outputs": [],
   "source": [
    "# convert disconnections_df dates from string to datetime\n",
    "disconnections_df['disconnectionDate'] = pd.to_datetime(disconnections_df['disconnectionDate'])\n",
    "\n",
    "# fill in missing dates with '0' for the count\n",
    "disconnections_df = disconnections_df.set_index('disconnectionDate').asfreq('D').reset_index().fillna(0)\n",
    "\n",
    "# fill in missing dates (pre-4/26) with '0' for the count\n",
    "dates = pd.date_range('2021-01-01', '2021-04-26')\n",
    "dates_df = pd.DataFrame(dates, columns = ['disconnectionDate'])\n",
    "dates_df['count'] = 0\n",
    "disconnections_df = pd.concat([dates_df, disconnections_df]).reset_index(drop=True)\n",
    "\n",
    "# convert dates back to string\n",
    "disconnections_df.disconnectionDate = disconnections_df.disconnectionDate.astype(str)"
   ]
  },
  {
   "cell_type": "markdown",
   "id": "ced1e83f",
   "metadata": {},
   "source": [
    "### Export data"
   ]
  },
  {
   "cell_type": "code",
   "execution_count": 15,
   "id": "11c97da0",
   "metadata": {},
   "outputs": [],
   "source": [
    "disconnections_df.to_json(r'../data/clean/disconnections/all-2021.json', orient=\"records\", date_format='%Y-%m-%d')"
   ]
  },
  {
   "cell_type": "markdown",
   "id": "46f19c4f",
   "metadata": {},
   "source": [
    "## Misc. Aggregating by month & exporting"
   ]
  },
  {
   "cell_type": "code",
   "execution_count": 4,
   "id": "29952fff",
   "metadata": {},
   "outputs": [],
   "source": [
    "# sort by month\n",
    "disconnections_df['month'] = disconnections_df['disconnectionDate'].str.split('-').str[1] + \"-01-2021\"\n",
    "disconnections_df['month'] = pd.to_datetime(disconnections_df['month'])\n",
    "disconnections_df.month = disconnections_df.month.astype(str)\n",
    "byMonth = disconnections_df.groupby('month').sum().sort_values(by='count', ascending=False).reset_index(drop=False)"
   ]
  },
  {
   "cell_type": "code",
   "execution_count": 24,
   "id": "dc0b961f",
   "metadata": {},
   "outputs": [],
   "source": [
    "byMonth.to_csv('../data/clean/2021-draft-by-month.csv')\n",
    "# byMonth.to_json(r'../data/clean/disconnections/2021-draft-by-month.json', orient=\"records\", date_format='%Y-%m-%d')"
   ]
  },
  {
   "cell_type": "code",
   "execution_count": 5,
   "id": "c5aa475f",
   "metadata": {},
   "outputs": [
    {
     "data": {
      "text/html": [
       "<div>\n",
       "<style scoped>\n",
       "    .dataframe tbody tr th:only-of-type {\n",
       "        vertical-align: middle;\n",
       "    }\n",
       "\n",
       "    .dataframe tbody tr th {\n",
       "        vertical-align: top;\n",
       "    }\n",
       "\n",
       "    .dataframe thead th {\n",
       "        text-align: right;\n",
       "    }\n",
       "</style>\n",
       "<table border=\"1\" class=\"dataframe\">\n",
       "  <thead>\n",
       "    <tr style=\"text-align: right;\">\n",
       "      <th></th>\n",
       "      <th>month</th>\n",
       "      <th>count</th>\n",
       "    </tr>\n",
       "  </thead>\n",
       "  <tbody>\n",
       "    <tr>\n",
       "      <th>0</th>\n",
       "      <td>2021-06-01</td>\n",
       "      <td>5023</td>\n",
       "    </tr>\n",
       "    <tr>\n",
       "      <th>1</th>\n",
       "      <td>2021-12-01</td>\n",
       "      <td>4666</td>\n",
       "    </tr>\n",
       "    <tr>\n",
       "      <th>2</th>\n",
       "      <td>2021-09-01</td>\n",
       "      <td>4577</td>\n",
       "    </tr>\n",
       "    <tr>\n",
       "      <th>3</th>\n",
       "      <td>2021-08-01</td>\n",
       "      <td>4304</td>\n",
       "    </tr>\n",
       "    <tr>\n",
       "      <th>4</th>\n",
       "      <td>2021-10-01</td>\n",
       "      <td>4280</td>\n",
       "    </tr>\n",
       "    <tr>\n",
       "      <th>5</th>\n",
       "      <td>2021-07-01</td>\n",
       "      <td>4239</td>\n",
       "    </tr>\n",
       "    <tr>\n",
       "      <th>6</th>\n",
       "      <td>2021-11-01</td>\n",
       "      <td>4030</td>\n",
       "    </tr>\n",
       "    <tr>\n",
       "      <th>7</th>\n",
       "      <td>2021-05-01</td>\n",
       "      <td>3205</td>\n",
       "    </tr>\n",
       "    <tr>\n",
       "      <th>8</th>\n",
       "      <td>2021-04-01</td>\n",
       "      <td>1107</td>\n",
       "    </tr>\n",
       "    <tr>\n",
       "      <th>9</th>\n",
       "      <td>2021-01-01</td>\n",
       "      <td>0</td>\n",
       "    </tr>\n",
       "    <tr>\n",
       "      <th>10</th>\n",
       "      <td>2021-02-01</td>\n",
       "      <td>0</td>\n",
       "    </tr>\n",
       "    <tr>\n",
       "      <th>11</th>\n",
       "      <td>2021-03-01</td>\n",
       "      <td>0</td>\n",
       "    </tr>\n",
       "  </tbody>\n",
       "</table>\n",
       "</div>"
      ],
      "text/plain": [
       "         month  count\n",
       "0   2021-06-01   5023\n",
       "1   2021-12-01   4666\n",
       "2   2021-09-01   4577\n",
       "3   2021-08-01   4304\n",
       "4   2021-10-01   4280\n",
       "5   2021-07-01   4239\n",
       "6   2021-11-01   4030\n",
       "7   2021-05-01   3205\n",
       "8   2021-04-01   1107\n",
       "9   2021-01-01      0\n",
       "10  2021-02-01      0\n",
       "11  2021-03-01      0"
      ]
     },
     "execution_count": 5,
     "metadata": {},
     "output_type": "execute_result"
    }
   ],
   "source": [
    "byMonth"
   ]
  },
  {
   "cell_type": "code",
   "execution_count": null,
   "id": "4fd4ead9",
   "metadata": {},
   "outputs": [],
   "source": []
  }
 ],
 "metadata": {
  "kernelspec": {
   "display_name": "Python [conda env:dev]",
   "language": "python",
   "name": "conda-env-dev-py"
  },
  "language_info": {
   "codemirror_mode": {
    "name": "ipython",
    "version": 3
   },
   "file_extension": ".py",
   "mimetype": "text/x-python",
   "name": "python",
   "nbconvert_exporter": "python",
   "pygments_lexer": "ipython3",
   "version": "3.8.12"
  }
 },
 "nbformat": 4,
 "nbformat_minor": 5
}
