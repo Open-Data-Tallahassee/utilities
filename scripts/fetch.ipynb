{
 "cells": [
  {
   "cell_type": "markdown",
   "id": "5a5a7087",
   "metadata": {},
   "source": [
    "## Script to fetch disconnected accounts data and append to file"
   ]
  },
  {
   "cell_type": "code",
   "execution_count": 1,
   "id": "e4bff697",
   "metadata": {},
   "outputs": [],
   "source": [
    "# import libraries\n",
    "import pandas as pd\n",
    "import os"
   ]
  },
  {
   "cell_type": "markdown",
   "id": "9bb844be",
   "metadata": {},
   "source": [
    "### Fetch and clean data from file"
   ]
  },
  {
   "cell_type": "code",
   "execution_count": 92,
   "id": "badf1352",
   "metadata": {},
   "outputs": [],
   "source": [
    "# create empty dataframe\n",
    "disconnections_df = pd.DataFrame(columns = ['disconnectionDate', 'count'])\n",
    "\n",
    "# read in all files in the disconnected folder\n",
    "directory = r'../data/raw/disconnected'\n",
    "for file in os.listdir(directory):\n",
    "    if file.endswith('.csv'):\n",
    "        # read in file\n",
    "        df = pd.read_csv('{directory}/{file}'.format(directory=directory, file=file))\n",
    "        \n",
    "        # create column for disconnection date\n",
    "        df['disconnectionDate'] = df['Date'].str.split(' ').str[0]\n",
    "        \n",
    "        # convert the 'Date' column to datetime format\n",
    "        df['disconnectionDate'] = pd.to_datetime(df['disconnectionDate'])\n",
    "        \n",
    "        # change 'Date' column type to string\n",
    "        df['disconnectionDate'] = df['disconnectionDate'].astype(str)\n",
    "\n",
    "        # create column for disconnection time\n",
    "        df['disconnectionTime'] = df['Date'].str.split(' ').str[0]\n",
    "\n",
    "        # drop 'Date' column\n",
    "        df = df.drop(columns=['Date'])\n",
    "        \n",
    "        # aggregate data by disconnection date\n",
    "        df = df[['disconnectionDate', 'Address']].groupby('disconnectionDate').count().sort_values(by='disconnectionDate', ascending=True).reset_index()\n",
    "        \n",
    "        # rename address column\n",
    "        df = df.rename(columns={\"Address\": \"count\"})\n",
    "        \n",
    "        # append data\n",
    "        disconnections_df = disconnections_df.append(df)\n",
    "    else:\n",
    "        pass\n"
   ]
  },
  {
   "cell_type": "markdown",
   "id": "e7a6c727",
   "metadata": {},
   "source": [
    "## Clean data"
   ]
  },
  {
   "cell_type": "code",
   "execution_count": 93,
   "id": "36bcf38b",
   "metadata": {},
   "outputs": [],
   "source": [
    "# convert disconnections_df dates from string to datetime\n",
    "disconnections_df['disconnectionDate'] = pd.to_datetime(disconnections_df['disconnectionDate'])\n",
    "\n",
    "# fill in missing dates with '0' for the count\n",
    "disconnections_df = disconnections_df.set_index('disconnectionDate').asfreq('D').reset_index().fillna(0)\n",
    "\n",
    "## ADD 1-1-2021 -> 4-26-2021, 0 COUNT\n",
    "\n",
    "# convert dates back to string\n",
    "disconnections_df.disconnectionDate = disconnections_df.disconnectionDate.astype(str)"
   ]
  },
  {
   "cell_type": "code",
   "execution_count": null,
   "id": "003246fe",
   "metadata": {},
   "outputs": [],
   "source": []
  },
  {
   "cell_type": "markdown",
   "id": "ced1e83f",
   "metadata": {},
   "source": [
    "### Export data"
   ]
  },
  {
   "cell_type": "code",
   "execution_count": 94,
   "id": "dc0b961f",
   "metadata": {},
   "outputs": [],
   "source": [
    "# disconnections_df.to_csv('../data/clean/2021.csv')\n",
    "disconnections_df.to_json(r'../data/clean/disconnections/2021-draft.json', orient=\"records\", date_format='%Y-%m-%d')"
   ]
  },
  {
   "cell_type": "code",
   "execution_count": null,
   "id": "9d50344b",
   "metadata": {},
   "outputs": [],
   "source": []
  }
 ],
 "metadata": {
  "kernelspec": {
   "display_name": "Python [conda env:dev]",
   "language": "python",
   "name": "conda-env-dev-py"
  },
  "language_info": {
   "codemirror_mode": {
    "name": "ipython",
    "version": 3
   },
   "file_extension": ".py",
   "mimetype": "text/x-python",
   "name": "python",
   "nbconvert_exporter": "python",
   "pygments_lexer": "ipython3",
   "version": "3.8.12"
  }
 },
 "nbformat": 4,
 "nbformat_minor": 5
}
